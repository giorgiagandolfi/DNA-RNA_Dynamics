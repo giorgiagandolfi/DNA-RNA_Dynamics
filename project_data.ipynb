{
  "nbformat": 4,
  "nbformat_minor": 0,
  "metadata": {
    "colab": {
      "name": "project_data.ipynb",
      "provenance": [],
      "collapsed_sections": [
        "G-qXb8Q-EBdS",
        "pMr8xFiHdXgs",
        "V84R5R4PfThR",
        "mRU3GjZIgzZ_",
        "k9599VauFkGa",
        "wHiKqh8p-wIT",
        "D7vVdiTP-0UN",
        "xq2ToGz_c2nE"
      ],
      "authorship_tag": "ABX9TyNzo9+FLTnlR0shbxfrVUAw",
      "include_colab_link": true
    },
    "kernelspec": {
      "name": "python3",
      "display_name": "Python 3"
    }
  },
  "cells": [
    {
      "cell_type": "markdown",
      "metadata": {
        "id": "view-in-github",
        "colab_type": "text"
      },
      "source": [
        "<a href=\"https://colab.research.google.com/github/giorgiagandolfi/DNA-RNA_Dynamics/blob/master/project_data.ipynb\" target=\"_parent\"><img src=\"https://colab.research.google.com/assets/colab-badge.svg\" alt=\"Open In Colab\"/></a>"
      ]
    },
    {
      "cell_type": "markdown",
      "metadata": {
        "id": "G-qXb8Q-EBdS",
        "colab_type": "text"
      },
      "source": [
        "### *Import data*"
      ]
    },
    {
      "cell_type": "code",
      "metadata": {
        "id": "4sfEjNdJbe_y",
        "colab_type": "code",
        "colab": {}
      },
      "source": [
        "from google.colab import files\n",
        "uploaded=files.upload()"
      ],
      "execution_count": null,
      "outputs": []
    },
    {
      "cell_type": "code",
      "metadata": {
        "id": "NoummtBLdAsz",
        "colab_type": "code",
        "colab": {}
      },
      "source": [
        "import pandas as pd\n"
      ],
      "execution_count": 99,
      "outputs": []
    },
    {
      "cell_type": "code",
      "metadata": {
        "id": "PA4ON7HqdF5F",
        "colab_type": "code",
        "colab": {}
      },
      "source": [
        "df=pd.read_csv('jpred4.tsv', sep=\"\\t\")\n",
        "df"
      ],
      "execution_count": null,
      "outputs": []
    },
    {
      "cell_type": "markdown",
      "metadata": {
        "id": "pMr8xFiHdXgs",
        "colab_type": "text"
      },
      "source": [
        "###**The distribution of domain lengths**"
      ]
    },
    {
      "cell_type": "code",
      "metadata": {
        "id": "CGJ-hNdidW76",
        "colab_type": "code",
        "colab": {}
      },
      "source": [
        "import seaborn as sns"
      ],
      "execution_count": 101,
      "outputs": []
    },
    {
      "cell_type": "code",
      "metadata": {
        "id": "VzvGFj88dfQb",
        "colab_type": "code",
        "colab": {}
      },
      "source": [
        "sns.boxplot(x=df[\"Length\"],color=\"Green\")"
      ],
      "execution_count": null,
      "outputs": []
    },
    {
      "cell_type": "code",
      "metadata": {
        "id": "ZpU5MJGtet6Q",
        "colab_type": "code",
        "colab": {}
      },
      "source": [
        "sns.distplot(df.Length, hist=False,kde_kws={'shade':True}, color=\"Green\" )"
      ],
      "execution_count": null,
      "outputs": []
    },
    {
      "cell_type": "markdown",
      "metadata": {
        "id": "V84R5R4PfThR",
        "colab_type": "text"
      },
      "source": [
        "### **The relative abundance of secondary structure conformations**"
      ]
    },
    {
      "cell_type": "code",
      "metadata": {
        "id": "ncfQOyymarS3",
        "colab_type": "code",
        "colab": {}
      },
      "source": [
        "import numpy as np"
      ],
      "execution_count": 104,
      "outputs": []
    },
    {
      "cell_type": "code",
      "metadata": {
        "id": "EGB9GAqSZZ9t",
        "colab_type": "code",
        "colab": {}
      },
      "source": [
        "df_relabundance= pd.DataFrame({'Counts': [77742,48588,92091]},\n",
        "                  index=['H','E','C'])\n",
        "df_relabundance.plot.pie(y='Counts', figsize=(5, 5), autopct=\"%1.1f%%\")\n"
      ],
      "execution_count": null,
      "outputs": []
    },
    {
      "cell_type": "markdown",
      "metadata": {
        "id": "mRU3GjZIgzZ_",
        "colab_type": "text"
      },
      "source": [
        "### **Comparative amino-acid composition**"
      ]
    },
    {
      "cell_type": "code",
      "metadata": {
        "id": "05032QjNk3wN",
        "colab_type": "code",
        "colab": {}
      },
      "source": [
        "import matplotlib.pyplot as plt"
      ],
      "execution_count": 64,
      "outputs": []
    },
    {
      "cell_type": "code",
      "metadata": {
        "id": "mx6udxcgOqit",
        "colab_type": "code",
        "colab": {}
      },
      "source": [
        "from google.colab import files\n",
        "uploaded=files.upload()"
      ],
      "execution_count": null,
      "outputs": []
    },
    {
      "cell_type": "code",
      "metadata": {
        "id": "pu3qDcf3udPU",
        "colab_type": "code",
        "colab": {}
      },
      "source": [
        "final_freq=pd.read_csv('frequenze_finale_yep1.csv',sep=';')\n",
        "final_freq"
      ],
      "execution_count": null,
      "outputs": []
    },
    {
      "cell_type": "code",
      "metadata": {
        "id": "Eg1hMnxGupNb",
        "colab_type": "code",
        "colab": {}
      },
      "source": [
        "plt.figure(figsize=(15,5))\n",
        "result_fin=pd.melt(final_freq, id_vars =['Residue'], value_vars =[\"Total\",\"Helix\",\"Strand\",\"Coil\"])\n",
        "sns.barplot(x=\"Residue\",y=\"value\",hue=\"variable\",data=result_fin)\n",
        "plt.ylabel('Frequency')"
      ],
      "execution_count": null,
      "outputs": []
    },
    {
      "cell_type": "markdown",
      "metadata": {
        "id": "k9599VauFkGa",
        "colab_type": "text"
      },
      "source": [
        "### **Taxonomic classification**"
      ]
    },
    {
      "cell_type": "markdown",
      "metadata": {
        "id": "wHiKqh8p-wIT",
        "colab_type": "text"
      },
      "source": [
        "#### Superkigdom"
      ]
    },
    {
      "cell_type": "code",
      "metadata": {
        "id": "q_pzpRK-882o",
        "colab_type": "code",
        "colab": {}
      },
      "source": [
        "superkind_counts=df['Suprekingdom'].value_counts()\n",
        "df_superkind_counts=superkind_counts.rename_axis(\"superkingdom\").to_frame(\"counts\")\n",
        "df_superkind_counts"
      ],
      "execution_count": null,
      "outputs": []
    },
    {
      "cell_type": "code",
      "metadata": {
        "id": "MYyiRuix-iLm",
        "colab_type": "code",
        "colab": {}
      },
      "source": [
        "df_superkind_counts.plot.pie(y=\"counts\",autopct=\"%1.1f%%\",labels=None,figsize=(10,10))"
      ],
      "execution_count": null,
      "outputs": []
    },
    {
      "cell_type": "markdown",
      "metadata": {
        "id": "D7vVdiTP-0UN",
        "colab_type": "text"
      },
      "source": [
        "#### Species"
      ]
    },
    {
      "cell_type": "code",
      "metadata": {
        "id": "jZY6SzIZ-2MY",
        "colab_type": "code",
        "colab": {}
      },
      "source": [
        "species_counts=df['TaxaName'].value_counts()\n",
        "df_species_counts=species_counts.rename_axis(\"species\").to_frame(\"counts\")\n",
        "df_species_counts"
      ],
      "execution_count": null,
      "outputs": []
    },
    {
      "cell_type": "code",
      "metadata": {
        "id": "4HYb5QOZ_w-u",
        "colab_type": "code",
        "colab": {}
      },
      "source": [
        "top20_species=df_species_counts.head(20)\n",
        "top20_species"
      ],
      "execution_count": null,
      "outputs": []
    },
    {
      "cell_type": "code",
      "metadata": {
        "id": "09MVIbZOADG-",
        "colab_type": "code",
        "colab": {}
      },
      "source": [
        "sns.countplot(x=\"counts\", data=top20_species)"
      ],
      "execution_count": null,
      "outputs": []
    },
    {
      "cell_type": "code",
      "metadata": {
        "id": "GwczC7b7BFLl",
        "colab_type": "code",
        "colab": {}
      },
      "source": [
        "top20_species.plot.pie(y=\"counts\",autopct=\"%1.1f%%\",labels=None,figsize=(10,10),)"
      ],
      "execution_count": null,
      "outputs": []
    },
    {
      "cell_type": "markdown",
      "metadata": {
        "id": "xq2ToGz_c2nE",
        "colab_type": "text"
      },
      "source": [
        "### **Structural classification (SCOP class)**"
      ]
    },
    {
      "cell_type": "code",
      "metadata": {
        "id": "8JOFTfvJfWj5",
        "colab_type": "code",
        "colab": {}
      },
      "source": [
        "secstr_counts=df['SCOPClass'].value_counts()\n",
        "#secstr_counts"
      ],
      "execution_count": 112,
      "outputs": []
    },
    {
      "cell_type": "code",
      "metadata": {
        "id": "VpFK7Jchfyy4",
        "colab_type": "code",
        "colab": {}
      },
      "source": [
        "df_secstr_counts=secstr_counts.rename_axis(\"secondary str\").to_frame(\"counts\")\n",
        "df_secstr_counts"
      ],
      "execution_count": null,
      "outputs": []
    },
    {
      "cell_type": "code",
      "metadata": {
        "id": "Tb3fLCOWgDLy",
        "colab_type": "code",
        "colab": {}
      },
      "source": [
        "df_secstr_counts.plot.pie(y=\"counts\",autopct=\"%1.1f%%\",labels=None,figsize=(10,10))"
      ],
      "execution_count": null,
      "outputs": []
    }
  ]
}